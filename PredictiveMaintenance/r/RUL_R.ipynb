{
 "cells": [
  {
   "cell_type": "code",
   "execution_count": null,
   "metadata": {},
   "outputs": [],
   "source": [
    "install.packages('gbm')\n",
    "library(gbm)"
   ]
  },
  {
   "cell_type": "markdown",
   "metadata": {},
   "source": [
    "# Read training data file"
   ]
  },
  {
   "cell_type": "code",
   "execution_count": 21,
   "metadata": {
    "scrolled": true
   },
   "outputs": [
    {
     "data": {
      "text/html": [
       "<table>\n",
       "<thead><tr><th scope=col>id</th><th scope=col>cycle</th><th scope=col>setting1</th><th scope=col>setting2</th><th scope=col>setting3</th><th scope=col>s1</th><th scope=col>s2</th><th scope=col>s3</th><th scope=col>s4</th><th scope=col>s5</th><th scope=col>⋯</th><th scope=col>s12</th><th scope=col>s13</th><th scope=col>s14</th><th scope=col>s15</th><th scope=col>s16</th><th scope=col>s17</th><th scope=col>s18</th><th scope=col>s19</th><th scope=col>s20</th><th scope=col>s21</th></tr></thead>\n",
       "<tbody>\n",
       "\t<tr><td>1      </td><td>1      </td><td>-0.0007</td><td>-4e-04 </td><td>100    </td><td>518.67 </td><td>641.82 </td><td>1589.70</td><td>1400.60</td><td>14.62  </td><td>⋯      </td><td>521.66 </td><td>2388.02</td><td>8138.62</td><td>8.4195 </td><td>0.03   </td><td>392    </td><td>2388   </td><td>100    </td><td>39.06  </td><td>23.4190</td></tr>\n",
       "\t<tr><td>1      </td><td>2      </td><td> 0.0019</td><td>-3e-04 </td><td>100    </td><td>518.67 </td><td>642.15 </td><td>1591.82</td><td>1403.14</td><td>14.62  </td><td>⋯      </td><td>522.28 </td><td>2388.07</td><td>8131.49</td><td>8.4318 </td><td>0.03   </td><td>392    </td><td>2388   </td><td>100    </td><td>39.00  </td><td>23.4236</td></tr>\n",
       "\t<tr><td>1      </td><td>3      </td><td>-0.0043</td><td> 3e-04 </td><td>100    </td><td>518.67 </td><td>642.35 </td><td>1587.99</td><td>1404.20</td><td>14.62  </td><td>⋯      </td><td>522.42 </td><td>2388.03</td><td>8133.23</td><td>8.4178 </td><td>0.03   </td><td>390    </td><td>2388   </td><td>100    </td><td>38.95  </td><td>23.3442</td></tr>\n",
       "\t<tr><td>1      </td><td>4      </td><td> 0.0007</td><td> 0e+00 </td><td>100    </td><td>518.67 </td><td>642.35 </td><td>1582.79</td><td>1401.87</td><td>14.62  </td><td>⋯      </td><td>522.86 </td><td>2388.08</td><td>8133.83</td><td>8.3682 </td><td>0.03   </td><td>392    </td><td>2388   </td><td>100    </td><td>38.88  </td><td>23.3739</td></tr>\n",
       "\t<tr><td>1      </td><td>5      </td><td>-0.0019</td><td>-2e-04 </td><td>100    </td><td>518.67 </td><td>642.37 </td><td>1582.85</td><td>1406.22</td><td>14.62  </td><td>⋯      </td><td>522.19 </td><td>2388.04</td><td>8133.80</td><td>8.4294 </td><td>0.03   </td><td>393    </td><td>2388   </td><td>100    </td><td>38.90  </td><td>23.4044</td></tr>\n",
       "\t<tr><td>1      </td><td>6      </td><td>-0.0043</td><td>-1e-04 </td><td>100    </td><td>518.67 </td><td>642.10 </td><td>1584.47</td><td>1398.37</td><td>14.62  </td><td>⋯      </td><td>521.68 </td><td>2388.03</td><td>8132.85</td><td>8.4108 </td><td>0.03   </td><td>391    </td><td>2388   </td><td>100    </td><td>38.98  </td><td>23.3669</td></tr>\n",
       "</tbody>\n",
       "</table>\n"
      ],
      "text/latex": [
       "\\begin{tabular}{r|llllllllllllllllllllllllll}\n",
       " id & cycle & setting1 & setting2 & setting3 & s1 & s2 & s3 & s4 & s5 & ⋯ & s12 & s13 & s14 & s15 & s16 & s17 & s18 & s19 & s20 & s21\\\\\n",
       "\\hline\n",
       "\t 1       & 1       & -0.0007 & -4e-04  & 100     & 518.67  & 641.82  & 1589.70 & 1400.60 & 14.62   & ⋯       & 521.66  & 2388.02 & 8138.62 & 8.4195  & 0.03    & 392     & 2388    & 100     & 39.06   & 23.4190\\\\\n",
       "\t 1       & 2       &  0.0019 & -3e-04  & 100     & 518.67  & 642.15  & 1591.82 & 1403.14 & 14.62   & ⋯       & 522.28  & 2388.07 & 8131.49 & 8.4318  & 0.03    & 392     & 2388    & 100     & 39.00   & 23.4236\\\\\n",
       "\t 1       & 3       & -0.0043 &  3e-04  & 100     & 518.67  & 642.35  & 1587.99 & 1404.20 & 14.62   & ⋯       & 522.42  & 2388.03 & 8133.23 & 8.4178  & 0.03    & 390     & 2388    & 100     & 38.95   & 23.3442\\\\\n",
       "\t 1       & 4       &  0.0007 &  0e+00  & 100     & 518.67  & 642.35  & 1582.79 & 1401.87 & 14.62   & ⋯       & 522.86  & 2388.08 & 8133.83 & 8.3682  & 0.03    & 392     & 2388    & 100     & 38.88   & 23.3739\\\\\n",
       "\t 1       & 5       & -0.0019 & -2e-04  & 100     & 518.67  & 642.37  & 1582.85 & 1406.22 & 14.62   & ⋯       & 522.19  & 2388.04 & 8133.80 & 8.4294  & 0.03    & 393     & 2388    & 100     & 38.90   & 23.4044\\\\\n",
       "\t 1       & 6       & -0.0043 & -1e-04  & 100     & 518.67  & 642.10  & 1584.47 & 1398.37 & 14.62   & ⋯       & 521.68  & 2388.03 & 8132.85 & 8.4108  & 0.03    & 391     & 2388    & 100     & 38.98   & 23.3669\\\\\n",
       "\\end{tabular}\n"
      ],
      "text/markdown": [
       "\n",
       "id | cycle | setting1 | setting2 | setting3 | s1 | s2 | s3 | s4 | s5 | ⋯ | s12 | s13 | s14 | s15 | s16 | s17 | s18 | s19 | s20 | s21 | \n",
       "|---|---|---|---|---|---|\n",
       "| 1       | 1       | -0.0007 | -4e-04  | 100     | 518.67  | 641.82  | 1589.70 | 1400.60 | 14.62   | ⋯       | 521.66  | 2388.02 | 8138.62 | 8.4195  | 0.03    | 392     | 2388    | 100     | 39.06   | 23.4190 | \n",
       "| 1       | 2       |  0.0019 | -3e-04  | 100     | 518.67  | 642.15  | 1591.82 | 1403.14 | 14.62   | ⋯       | 522.28  | 2388.07 | 8131.49 | 8.4318  | 0.03    | 392     | 2388    | 100     | 39.00   | 23.4236 | \n",
       "| 1       | 3       | -0.0043 |  3e-04  | 100     | 518.67  | 642.35  | 1587.99 | 1404.20 | 14.62   | ⋯       | 522.42  | 2388.03 | 8133.23 | 8.4178  | 0.03    | 390     | 2388    | 100     | 38.95   | 23.3442 | \n",
       "| 1       | 4       |  0.0007 |  0e+00  | 100     | 518.67  | 642.35  | 1582.79 | 1401.87 | 14.62   | ⋯       | 522.86  | 2388.08 | 8133.83 | 8.3682  | 0.03    | 392     | 2388    | 100     | 38.88   | 23.3739 | \n",
       "| 1       | 5       | -0.0019 | -2e-04  | 100     | 518.67  | 642.37  | 1582.85 | 1406.22 | 14.62   | ⋯       | 522.19  | 2388.04 | 8133.80 | 8.4294  | 0.03    | 393     | 2388    | 100     | 38.90   | 23.4044 | \n",
       "| 1       | 6       | -0.0043 | -1e-04  | 100     | 518.67  | 642.10  | 1584.47 | 1398.37 | 14.62   | ⋯       | 521.68  | 2388.03 | 8132.85 | 8.4108  | 0.03    | 391     | 2388    | 100     | 38.98   | 23.3669 | \n",
       "\n",
       "\n"
      ],
      "text/plain": [
       "  id cycle setting1 setting2 setting3 s1     s2     s3      s4      s5    ⋯\n",
       "1 1  1     -0.0007  -4e-04   100      518.67 641.82 1589.70 1400.60 14.62 ⋯\n",
       "2 1  2      0.0019  -3e-04   100      518.67 642.15 1591.82 1403.14 14.62 ⋯\n",
       "3 1  3     -0.0043   3e-04   100      518.67 642.35 1587.99 1404.20 14.62 ⋯\n",
       "4 1  4      0.0007   0e+00   100      518.67 642.35 1582.79 1401.87 14.62 ⋯\n",
       "5 1  5     -0.0019  -2e-04   100      518.67 642.37 1582.85 1406.22 14.62 ⋯\n",
       "6 1  6     -0.0043  -1e-04   100      518.67 642.10 1584.47 1398.37 14.62 ⋯\n",
       "  s12    s13     s14     s15    s16  s17 s18  s19 s20   s21    \n",
       "1 521.66 2388.02 8138.62 8.4195 0.03 392 2388 100 39.06 23.4190\n",
       "2 522.28 2388.07 8131.49 8.4318 0.03 392 2388 100 39.00 23.4236\n",
       "3 522.42 2388.03 8133.23 8.4178 0.03 390 2388 100 38.95 23.3442\n",
       "4 522.86 2388.08 8133.83 8.3682 0.03 392 2388 100 38.88 23.3739\n",
       "5 522.19 2388.04 8133.80 8.4294 0.03 393 2388 100 38.90 23.4044\n",
       "6 521.68 2388.03 8132.85 8.4108 0.03 391 2388 100 38.98 23.3669"
      ]
     },
     "metadata": {},
     "output_type": "display_data"
    }
   ],
   "source": [
    "train_raw <- read.table(\"../data/train_FD001.txt\", \n",
    "    sep=\" \", \n",
    "    colClasses=c(rep(\"numeric\", 2), rep(\"double\", 24), rep(\"NULL\", 2)),\n",
    "    col.name=c(\"id\", \"cycle\", \"setting1\", \"setting2\", \"setting3\",\n",
    "               \"s1\", \"s2\", \"s3\", \"s4\", \"s5\", \"s6\",\n",
    "               \"s7\", \"s8\", \"s9\", \"s10\", \"s11\", \"s12\",\n",
    "               \"s13\", \"s14\", \"s15\", \"s16\", \"s17\", \"s18\",\n",
    "               \"s19\", \"s20\", \"s21\", \"na\", \"na\")\n",
    ")\n",
    "head(train_raw)"
   ]
  },
  {
   "cell_type": "markdown",
   "metadata": {},
   "source": [
    "# Prepare training data\n",
    "* Find max cycle for each engine id\n",
    "* Append max cycle to each row\n",
    "* Add a column of remaining cycle = max cycle - current cycle\n",
    "* Select only needed columns for training"
   ]
  },
  {
   "cell_type": "code",
   "execution_count": 22,
   "metadata": {},
   "outputs": [
    {
     "data": {
      "text/html": [
       "<table>\n",
       "<thead><tr><th scope=col>id</th><th scope=col>cycle</th><th scope=col>s9</th><th scope=col>s11</th><th scope=col>s14</th><th scope=col>s15</th><th scope=col>RUL</th></tr></thead>\n",
       "<tbody>\n",
       "\t<tr><td>1      </td><td>1      </td><td>9046.19</td><td>47.47  </td><td>8138.62</td><td>8.4195 </td><td>191    </td></tr>\n",
       "\t<tr><td>1      </td><td>2      </td><td>9044.07</td><td>47.49  </td><td>8131.49</td><td>8.4318 </td><td>190    </td></tr>\n",
       "\t<tr><td>1      </td><td>3      </td><td>9052.94</td><td>47.27  </td><td>8133.23</td><td>8.4178 </td><td>189    </td></tr>\n",
       "\t<tr><td>1      </td><td>4      </td><td>9049.48</td><td>47.13  </td><td>8133.83</td><td>8.3682 </td><td>188    </td></tr>\n",
       "\t<tr><td>1      </td><td>5      </td><td>9055.15</td><td>47.28  </td><td>8133.80</td><td>8.4294 </td><td>187    </td></tr>\n",
       "\t<tr><td>1      </td><td>6      </td><td>9049.68</td><td>47.16  </td><td>8132.85</td><td>8.4108 </td><td>186    </td></tr>\n",
       "</tbody>\n",
       "</table>\n"
      ],
      "text/latex": [
       "\\begin{tabular}{r|lllllll}\n",
       " id & cycle & s9 & s11 & s14 & s15 & RUL\\\\\n",
       "\\hline\n",
       "\t 1       & 1       & 9046.19 & 47.47   & 8138.62 & 8.4195  & 191    \\\\\n",
       "\t 1       & 2       & 9044.07 & 47.49   & 8131.49 & 8.4318  & 190    \\\\\n",
       "\t 1       & 3       & 9052.94 & 47.27   & 8133.23 & 8.4178  & 189    \\\\\n",
       "\t 1       & 4       & 9049.48 & 47.13   & 8133.83 & 8.3682  & 188    \\\\\n",
       "\t 1       & 5       & 9055.15 & 47.28   & 8133.80 & 8.4294  & 187    \\\\\n",
       "\t 1       & 6       & 9049.68 & 47.16   & 8132.85 & 8.4108  & 186    \\\\\n",
       "\\end{tabular}\n"
      ],
      "text/markdown": [
       "\n",
       "id | cycle | s9 | s11 | s14 | s15 | RUL | \n",
       "|---|---|---|---|---|---|\n",
       "| 1       | 1       | 9046.19 | 47.47   | 8138.62 | 8.4195  | 191     | \n",
       "| 1       | 2       | 9044.07 | 47.49   | 8131.49 | 8.4318  | 190     | \n",
       "| 1       | 3       | 9052.94 | 47.27   | 8133.23 | 8.4178  | 189     | \n",
       "| 1       | 4       | 9049.48 | 47.13   | 8133.83 | 8.3682  | 188     | \n",
       "| 1       | 5       | 9055.15 | 47.28   | 8133.80 | 8.4294  | 187     | \n",
       "| 1       | 6       | 9049.68 | 47.16   | 8132.85 | 8.4108  | 186     | \n",
       "\n",
       "\n"
      ],
      "text/plain": [
       "  id cycle s9      s11   s14     s15    RUL\n",
       "1 1  1     9046.19 47.47 8138.62 8.4195 191\n",
       "2 1  2     9044.07 47.49 8131.49 8.4318 190\n",
       "3 1  3     9052.94 47.27 8133.23 8.4178 189\n",
       "4 1  4     9049.48 47.13 8133.83 8.3682 188\n",
       "5 1  5     9055.15 47.28 8133.80 8.4294 187\n",
       "6 1  6     9049.68 47.16 8132.85 8.4108 186"
      ]
     },
     "metadata": {},
     "output_type": "display_data"
    }
   ],
   "source": [
    "train_maxcycle <- setNames(aggregate(cycle~id,train_raw,max), c(\"id\", \"max\"))\n",
    "train_labeled <- merge(train_raw,train_maxcycle,by=c(\"id\"))\n",
    "train_labeled$RUL <- train_labeled$max - train_labeled$cycle\n",
    "train_df <- train_labeled[, c(\"id\", \"cycle\", \"s9\", \"s11\", \"s14\", \"s15\", \"RUL\")]\n",
    "head(train_df)"
   ]
  },
  {
   "cell_type": "markdown",
   "metadata": {},
   "source": [
    "# Read test data file"
   ]
  },
  {
   "cell_type": "code",
   "execution_count": 23,
   "metadata": {},
   "outputs": [
    {
     "data": {
      "text/html": [
       "<table>\n",
       "<thead><tr><th scope=col>id</th><th scope=col>cycle</th><th scope=col>setting1</th><th scope=col>setting2</th><th scope=col>setting3</th><th scope=col>s1</th><th scope=col>s2</th><th scope=col>s3</th><th scope=col>s4</th><th scope=col>s5</th><th scope=col>⋯</th><th scope=col>s12</th><th scope=col>s13</th><th scope=col>s14</th><th scope=col>s15</th><th scope=col>s16</th><th scope=col>s17</th><th scope=col>s18</th><th scope=col>s19</th><th scope=col>s20</th><th scope=col>s21</th></tr></thead>\n",
       "<tbody>\n",
       "\t<tr><td>1      </td><td>1      </td><td> 0.0023</td><td> 3e-04 </td><td>100    </td><td>518.67 </td><td>643.02 </td><td>1585.29</td><td>1398.21</td><td>14.62  </td><td>⋯      </td><td>521.72 </td><td>2388.03</td><td>8125.55</td><td>8.4052 </td><td>0.03   </td><td>392    </td><td>2388   </td><td>100    </td><td>38.86  </td><td>23.3735</td></tr>\n",
       "\t<tr><td>1      </td><td>2      </td><td>-0.0027</td><td>-3e-04 </td><td>100    </td><td>518.67 </td><td>641.71 </td><td>1588.45</td><td>1395.42</td><td>14.62  </td><td>⋯      </td><td>522.16 </td><td>2388.06</td><td>8139.62</td><td>8.3803 </td><td>0.03   </td><td>393    </td><td>2388   </td><td>100    </td><td>39.02  </td><td>23.3916</td></tr>\n",
       "\t<tr><td>1      </td><td>3      </td><td> 0.0003</td><td> 1e-04 </td><td>100    </td><td>518.67 </td><td>642.46 </td><td>1586.94</td><td>1401.34</td><td>14.62  </td><td>⋯      </td><td>521.97 </td><td>2388.03</td><td>8130.10</td><td>8.4441 </td><td>0.03   </td><td>393    </td><td>2388   </td><td>100    </td><td>39.08  </td><td>23.4166</td></tr>\n",
       "\t<tr><td>1      </td><td>4      </td><td> 0.0042</td><td> 0e+00 </td><td>100    </td><td>518.67 </td><td>642.44 </td><td>1584.12</td><td>1406.42</td><td>14.62  </td><td>⋯      </td><td>521.38 </td><td>2388.05</td><td>8132.90</td><td>8.3917 </td><td>0.03   </td><td>391    </td><td>2388   </td><td>100    </td><td>39.00  </td><td>23.3737</td></tr>\n",
       "\t<tr><td>1      </td><td>5      </td><td> 0.0014</td><td> 0e+00 </td><td>100    </td><td>518.67 </td><td>642.51 </td><td>1587.19</td><td>1401.92</td><td>14.62  </td><td>⋯      </td><td>522.15 </td><td>2388.03</td><td>8129.54</td><td>8.4031 </td><td>0.03   </td><td>390    </td><td>2388   </td><td>100    </td><td>38.99  </td><td>23.4130</td></tr>\n",
       "\t<tr><td>1      </td><td>6      </td><td> 0.0012</td><td> 3e-04 </td><td>100    </td><td>518.67 </td><td>642.11 </td><td>1579.12</td><td>1395.13</td><td>14.62  </td><td>⋯      </td><td>521.92 </td><td>2388.08</td><td>8127.46</td><td>8.4238 </td><td>0.03   </td><td>392    </td><td>2388   </td><td>100    </td><td>38.91  </td><td>23.3467</td></tr>\n",
       "</tbody>\n",
       "</table>\n"
      ],
      "text/latex": [
       "\\begin{tabular}{r|llllllllllllllllllllllllll}\n",
       " id & cycle & setting1 & setting2 & setting3 & s1 & s2 & s3 & s4 & s5 & ⋯ & s12 & s13 & s14 & s15 & s16 & s17 & s18 & s19 & s20 & s21\\\\\n",
       "\\hline\n",
       "\t 1       & 1       &  0.0023 &  3e-04  & 100     & 518.67  & 643.02  & 1585.29 & 1398.21 & 14.62   & ⋯       & 521.72  & 2388.03 & 8125.55 & 8.4052  & 0.03    & 392     & 2388    & 100     & 38.86   & 23.3735\\\\\n",
       "\t 1       & 2       & -0.0027 & -3e-04  & 100     & 518.67  & 641.71  & 1588.45 & 1395.42 & 14.62   & ⋯       & 522.16  & 2388.06 & 8139.62 & 8.3803  & 0.03    & 393     & 2388    & 100     & 39.02   & 23.3916\\\\\n",
       "\t 1       & 3       &  0.0003 &  1e-04  & 100     & 518.67  & 642.46  & 1586.94 & 1401.34 & 14.62   & ⋯       & 521.97  & 2388.03 & 8130.10 & 8.4441  & 0.03    & 393     & 2388    & 100     & 39.08   & 23.4166\\\\\n",
       "\t 1       & 4       &  0.0042 &  0e+00  & 100     & 518.67  & 642.44  & 1584.12 & 1406.42 & 14.62   & ⋯       & 521.38  & 2388.05 & 8132.90 & 8.3917  & 0.03    & 391     & 2388    & 100     & 39.00   & 23.3737\\\\\n",
       "\t 1       & 5       &  0.0014 &  0e+00  & 100     & 518.67  & 642.51  & 1587.19 & 1401.92 & 14.62   & ⋯       & 522.15  & 2388.03 & 8129.54 & 8.4031  & 0.03    & 390     & 2388    & 100     & 38.99   & 23.4130\\\\\n",
       "\t 1       & 6       &  0.0012 &  3e-04  & 100     & 518.67  & 642.11  & 1579.12 & 1395.13 & 14.62   & ⋯       & 521.92  & 2388.08 & 8127.46 & 8.4238  & 0.03    & 392     & 2388    & 100     & 38.91   & 23.3467\\\\\n",
       "\\end{tabular}\n"
      ],
      "text/markdown": [
       "\n",
       "id | cycle | setting1 | setting2 | setting3 | s1 | s2 | s3 | s4 | s5 | ⋯ | s12 | s13 | s14 | s15 | s16 | s17 | s18 | s19 | s20 | s21 | \n",
       "|---|---|---|---|---|---|\n",
       "| 1       | 1       |  0.0023 |  3e-04  | 100     | 518.67  | 643.02  | 1585.29 | 1398.21 | 14.62   | ⋯       | 521.72  | 2388.03 | 8125.55 | 8.4052  | 0.03    | 392     | 2388    | 100     | 38.86   | 23.3735 | \n",
       "| 1       | 2       | -0.0027 | -3e-04  | 100     | 518.67  | 641.71  | 1588.45 | 1395.42 | 14.62   | ⋯       | 522.16  | 2388.06 | 8139.62 | 8.3803  | 0.03    | 393     | 2388    | 100     | 39.02   | 23.3916 | \n",
       "| 1       | 3       |  0.0003 |  1e-04  | 100     | 518.67  | 642.46  | 1586.94 | 1401.34 | 14.62   | ⋯       | 521.97  | 2388.03 | 8130.10 | 8.4441  | 0.03    | 393     | 2388    | 100     | 39.08   | 23.4166 | \n",
       "| 1       | 4       |  0.0042 |  0e+00  | 100     | 518.67  | 642.44  | 1584.12 | 1406.42 | 14.62   | ⋯       | 521.38  | 2388.05 | 8132.90 | 8.3917  | 0.03    | 391     | 2388    | 100     | 39.00   | 23.3737 | \n",
       "| 1       | 5       |  0.0014 |  0e+00  | 100     | 518.67  | 642.51  | 1587.19 | 1401.92 | 14.62   | ⋯       | 522.15  | 2388.03 | 8129.54 | 8.4031  | 0.03    | 390     | 2388    | 100     | 38.99   | 23.4130 | \n",
       "| 1       | 6       |  0.0012 |  3e-04  | 100     | 518.67  | 642.11  | 1579.12 | 1395.13 | 14.62   | ⋯       | 521.92  | 2388.08 | 8127.46 | 8.4238  | 0.03    | 392     | 2388    | 100     | 38.91   | 23.3467 | \n",
       "\n",
       "\n"
      ],
      "text/plain": [
       "  id cycle setting1 setting2 setting3 s1     s2     s3      s4      s5    ⋯\n",
       "1 1  1      0.0023   3e-04   100      518.67 643.02 1585.29 1398.21 14.62 ⋯\n",
       "2 1  2     -0.0027  -3e-04   100      518.67 641.71 1588.45 1395.42 14.62 ⋯\n",
       "3 1  3      0.0003   1e-04   100      518.67 642.46 1586.94 1401.34 14.62 ⋯\n",
       "4 1  4      0.0042   0e+00   100      518.67 642.44 1584.12 1406.42 14.62 ⋯\n",
       "5 1  5      0.0014   0e+00   100      518.67 642.51 1587.19 1401.92 14.62 ⋯\n",
       "6 1  6      0.0012   3e-04   100      518.67 642.11 1579.12 1395.13 14.62 ⋯\n",
       "  s12    s13     s14     s15    s16  s17 s18  s19 s20   s21    \n",
       "1 521.72 2388.03 8125.55 8.4052 0.03 392 2388 100 38.86 23.3735\n",
       "2 522.16 2388.06 8139.62 8.3803 0.03 393 2388 100 39.02 23.3916\n",
       "3 521.97 2388.03 8130.10 8.4441 0.03 393 2388 100 39.08 23.4166\n",
       "4 521.38 2388.05 8132.90 8.3917 0.03 391 2388 100 39.00 23.3737\n",
       "5 522.15 2388.03 8129.54 8.4031 0.03 390 2388 100 38.99 23.4130\n",
       "6 521.92 2388.08 8127.46 8.4238 0.03 392 2388 100 38.91 23.3467"
      ]
     },
     "metadata": {},
     "output_type": "display_data"
    }
   ],
   "source": [
    "test_raw <- read.table(\"../data/test_FD001.txt\", \n",
    "    sep=\" \", \n",
    "    colClasses=c(rep(\"numeric\", 2), rep(\"double\", 24), rep(\"NULL\", 2)),\n",
    "    col.name=c(\"id\", \"cycle\", \"setting1\", \"setting2\", \"setting3\",\n",
    "               \"s1\", \"s2\", \"s3\", \"s4\", \"s5\", \"s6\",\n",
    "               \"s7\", \"s8\", \"s9\", \"s10\", \"s11\", \"s12\",\n",
    "               \"s13\", \"s14\", \"s15\", \"s16\", \"s17\", \"s18\",\n",
    "               \"s19\", \"s20\", \"s21\", \"na\", \"na\")\n",
    ")\n",
    "head(test_raw)"
   ]
  },
  {
   "cell_type": "markdown",
   "metadata": {},
   "source": [
    "# Prepare test data\n",
    "* Find max cycle for each engine id\n",
    "* Keep only the row with max cycle for each engine id\n",
    "* Select only necessary columns\n",
    "* Order the data set by engine id"
   ]
  },
  {
   "cell_type": "code",
   "execution_count": 24,
   "metadata": {},
   "outputs": [
    {
     "name": "stdout",
     "output_type": "stream",
     "text": [
      " id cycle      s9   s11     s14    s15\n",
      "  1    31 9056.40 47.23 8130.11 8.4024\n",
      "  2    49 9044.77 47.67 8126.90 8.4505\n",
      "  3   126 9049.26 47.88 8131.46 8.4119\n",
      "  4   106 9051.30 47.65 8133.64 8.4634\n",
      "  5    98 9053.99 47.46 8125.74 8.4362\n",
      "  6   105 9055.83 47.51 8139.02 8.4452\n"
     ]
    }
   ],
   "source": [
    "test_maxcycle <- aggregate(cycle~id,test_raw,max)\n",
    "test_maxcycle_only <- merge(test_maxcycle,test_raw)[, c(\"id\", \"cycle\", \"s9\", \"s11\", \"s14\", \"s15\")]\n",
    "test_ordered = test_maxcycle_only[order(test_maxcycle_only$id), ]\n",
    "print(head(test_ordered), row.names=FALSE)"
   ]
  },
  {
   "cell_type": "markdown",
   "metadata": {},
   "source": [
    "# Read labels (ground truth) for test data "
   ]
  },
  {
   "cell_type": "code",
   "execution_count": 25,
   "metadata": {},
   "outputs": [
    {
     "data": {
      "text/html": [
       "<table>\n",
       "<thead><tr><th scope=col>RUL</th></tr></thead>\n",
       "<tbody>\n",
       "\t<tr><td>112</td></tr>\n",
       "\t<tr><td> 98</td></tr>\n",
       "\t<tr><td> 69</td></tr>\n",
       "\t<tr><td> 82</td></tr>\n",
       "\t<tr><td> 91</td></tr>\n",
       "\t<tr><td> 93</td></tr>\n",
       "</tbody>\n",
       "</table>\n"
      ],
      "text/latex": [
       "\\begin{tabular}{r|l}\n",
       " RUL\\\\\n",
       "\\hline\n",
       "\t 112\\\\\n",
       "\t  98\\\\\n",
       "\t  69\\\\\n",
       "\t  82\\\\\n",
       "\t  91\\\\\n",
       "\t  93\\\\\n",
       "\\end{tabular}\n"
      ],
      "text/markdown": [
       "\n",
       "RUL | \n",
       "|---|---|---|---|---|---|\n",
       "| 112 | \n",
       "|  98 | \n",
       "|  69 | \n",
       "|  82 | \n",
       "|  91 | \n",
       "|  93 | \n",
       "\n",
       "\n"
      ],
      "text/plain": [
       "  RUL\n",
       "1 112\n",
       "2  98\n",
       "3  69\n",
       "4  82\n",
       "5  91\n",
       "6  93"
      ]
     },
     "metadata": {},
     "output_type": "display_data"
    }
   ],
   "source": [
    "rul_df <- read.table(\"../data/RUL_FD001.txt\", \n",
    "    colClasses=c(\"numeric\"),\n",
    "    col.name=c(\"RUL\")\n",
    ")\n",
    "head(rul_df)"
   ]
  },
  {
   "cell_type": "markdown",
   "metadata": {},
   "source": [
    "# Combine test data with label"
   ]
  },
  {
   "cell_type": "code",
   "execution_count": 26,
   "metadata": {},
   "outputs": [
    {
     "name": "stdout",
     "output_type": "stream",
     "text": [
      " id cycle      s9   s11     s14    s15 RUL\n",
      "  1    31 9056.40 47.23 8130.11 8.4024 112\n",
      "  2    49 9044.77 47.67 8126.90 8.4505  98\n",
      "  3   126 9049.26 47.88 8131.46 8.4119  69\n",
      "  4   106 9051.30 47.65 8133.64 8.4634  82\n",
      "  5    98 9053.99 47.46 8125.74 8.4362  91\n",
      "  6   105 9055.83 47.51 8139.02 8.4452  93\n"
     ]
    }
   ],
   "source": [
    "test_df <- cbind(test_ordered, rul_df)\n",
    "print(head(test_df), row.names=FALSE)"
   ]
  },
  {
   "cell_type": "markdown",
   "metadata": {},
   "source": [
    "# Train a Gradient Boosted regression model"
   ]
  },
  {
   "cell_type": "code",
   "execution_count": 27,
   "metadata": {},
   "outputs": [],
   "source": [
    "formula <- as.formula(\"RUL ~ cycle + s9 + s11 + s14 + s15\")\n",
    "gbt <- gbm(\n",
    "    formula = formula, \n",
    "    data = train_df, \n",
    "    shrinkage = 0.2, \n",
    "    n.trees = 100, \n",
    "    distribution = \"gaussian\" \n",
    "    )"
   ]
  },
  {
   "cell_type": "markdown",
   "metadata": {},
   "source": [
    "# Evaluate the model\n",
    "* Make predictions on the test data set\n",
    "* Calculate error between predictions and ground truth"
   ]
  },
  {
   "cell_type": "code",
   "execution_count": 28,
   "metadata": {},
   "outputs": [
    {
     "data": {
      "text/html": [
       "<strong>Root Mean Squared Error:</strong> 26.3579871558287"
      ],
      "text/latex": [
       "\\textbf{Root Mean Squared Error:} 26.3579871558287"
      ],
      "text/markdown": [
       "**Root Mean Squared Error:** 26.3579871558287"
      ],
      "text/plain": [
       "Root Mean Squared Error \n",
       "               26.35799 "
      ]
     },
     "metadata": {},
     "output_type": "display_data"
    }
   ],
   "source": [
    "predictions <- predict(object = gbt, newdata = test_df, n.trees = 100)\n",
    "\n",
    "evaluate_model <- function(observed, predicted) {\n",
    "  se <- (observed - predicted)^2\n",
    "  rmse <- sqrt(mean(se))\n",
    "  metrics <- c(\"Root Mean Squared Error\" = rmse)\n",
    "  return(metrics)\n",
    "}\n",
    "\n",
    "rmse <- evaluate_model(observed = test_df$RUL, predicted = predictions)\n",
    "rmse"
   ]
  }
 ],
 "metadata": {
  "kernelspec": {
   "display_name": "R",
   "language": "R",
   "name": "ir"
  },
  "language_info": {
   "codemirror_mode": "r",
   "file_extension": ".r",
   "mimetype": "text/x-r-source",
   "name": "R",
   "pygments_lexer": "r",
   "version": "3.4.1"
  }
 },
 "nbformat": 4,
 "nbformat_minor": 2
}
